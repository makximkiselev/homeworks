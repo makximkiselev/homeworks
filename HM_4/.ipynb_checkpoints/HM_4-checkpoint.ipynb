{
 "cells": [
  {
   "cell_type": "markdown",
   "metadata": {},
   "source": [
    "# Домашняя работа 4"
   ]
  },
  {
   "cell_type": "markdown",
   "metadata": {},
   "source": [
    "## Задание 1"
   ]
  },
  {
   "cell_type": "markdown",
   "metadata": {},
   "source": [
    "*Условие*\n",
    "Дан список с визитами по городам и странам. Напишите код, который возвращает отфильтрованный список geo_logs, содержащий только визиты из России."
   ]
  },
  {
   "cell_type": "code",
   "execution_count": 72,
   "metadata": {},
   "outputs": [
    {
     "name": "stdout",
     "output_type": "stream",
     "text": [
      "['visit1', 'visit3', 'visit7', 'visit8', 'visit9', 'visit10']\n"
     ]
    }
   ],
   "source": [
    "geo_logs = [\n",
    "    {'visit1': ['Москва', 'Россия']},\n",
    "    {'visit2': ['Дели', 'Индия']},\n",
    "    {'visit3': ['Владимир', 'Россия']},\n",
    "    {'visit4': ['Лиссабон', 'Португалия']},\n",
    "    {'visit5': ['Париж', 'Франция']},\n",
    "    {'visit6': ['Лиссабон', 'Португалия']},\n",
    "    {'visit7': ['Тула', 'Россия']},\n",
    "    {'visit8': ['Тула', 'Россия']},\n",
    "    {'visit9': ['Курск', 'Россия']},\n",
    "    {'visit10': ['Архангельск', 'Россия']}\n",
    "]\n",
    "new_geo_log = []\n",
    "for split in geo_logs:\n",
    "    for visit,country in split.items():\n",
    "        if country[1] == 'Россия':\n",
    "            new_geo_log.append(visit)\n",
    "print(new_geo_log)\n",
    "        \n",
    "    "
   ]
  },
  {
   "cell_type": "code",
   "execution_count": 71,
   "metadata": {},
   "outputs": [
    {
     "name": "stdout",
     "output_type": "stream",
     "text": [
      "[{'visit1': ['Москва', 'Россия']}, {'visit3': ['Владимир', 'Россия']}, {'visit7': ['Тула', 'Россия']}, {'visit8': ['Тула', 'Россия']}, {'visit9': ['Курск', 'Россия']}, {'visit10': ['Архангельск', 'Россия']}]\n"
     ]
    }
   ],
   "source": [
    "geo_logs = [\n",
    "    {'visit1': ['Москва', 'Россия']},\n",
    "    {'visit2': ['Дели', 'Индия']},\n",
    "    {'visit3': ['Владимир', 'Россия']},\n",
    "    {'visit4': ['Лиссабон', 'Португалия']},\n",
    "    {'visit5': ['Париж', 'Франция']},\n",
    "    {'visit6': ['Лиссабон', 'Португалия']},\n",
    "    {'visit7': ['Тула', 'Россия']},\n",
    "    {'visit8': ['Тула', 'Россия']},\n",
    "    {'visit9': ['Курск', 'Россия']},\n",
    "    {'visit10': ['Архангельск', 'Россия']}\n",
    "]\n",
    "new_geo_logo = []\n",
    "for visit in geo_logs:\n",
    "    x = list(visit.values())\n",
    "    if 'Россия' in x[0]:\n",
    "        new_geo_logo.append(visit)\n",
    "print(new_geo_logo)"
   ]
  },
  {
   "cell_type": "markdown",
   "metadata": {},
   "source": [
    "## Задание 2"
   ]
  },
  {
   "cell_type": "markdown",
   "metadata": {},
   "source": [
    "*Условие*\n",
    "Выведите на экран все уникальные гео-ID из значений словаря ids. Т. е. список вида [213, 15, 54, 119, 98, 35]"
   ]
  },
  {
   "cell_type": "code",
   "execution_count": 95,
   "metadata": {},
   "outputs": [
    {
     "name": "stdout",
     "output_type": "stream",
     "text": [
      "[15, 35, 54, 98, 119, 213]\n"
     ]
    }
   ],
   "source": [
    "ids = {'user1': [213, 213, 213, 15, 213], \n",
    "       'user2': [54, 54, 119, 119, 119], \n",
    "       'user3': [213, 98, 98, 35]}\n",
    "new_ids = []\n",
    "for value in ids.values():\n",
    "    for item in value:\n",
    "        new_ids.append(item)\n",
    "print(sorted(set(new_ids)))  \n",
    "        "
   ]
  },
  {
   "cell_type": "code",
   "execution_count": 100,
   "metadata": {},
   "outputs": [
    {
     "name": "stdout",
     "output_type": "stream",
     "text": [
      "[[213, 213, 213, 15, 213], [54, 54, 119, 119, 119], [213, 98, 98, 35]]\n"
     ]
    }
   ],
   "source": [
    "ids = {'user1': [213, 213, 213, 15, 213], \n",
    "       'user2': [54, 54, 119, 119, 119], \n",
    "       'user3': [213, 98, 98, 35]}\n",
    "new_list = []\n",
    "for value in ids.values():\n",
    "    new_list.append(value)\n",
    "print(new_list)"
   ]
  },
  {
   "cell_type": "markdown",
   "metadata": {},
   "source": [
    "## Задание 3"
   ]
  },
  {
   "cell_type": "markdown",
   "metadata": {},
   "source": [
    "*Условие*\n",
    "Дан список поисковых запросов. Получить распределение количества слов в них. Т. е. поисковых запросов из одного - слова 5%, из двух - 7%, из трех - 3% и т.д."
   ]
  },
  {
   "cell_type": "code",
   "execution_count": 6,
   "metadata": {},
   "outputs": [
    {
     "name": "stdout",
     "output_type": "stream",
     "text": [
      "['смотреть', 'сериалы', 'онлайн'], длина = 3\n",
      "['новости', 'спорта'], длина = 2\n",
      "['афиша', 'кино'], длина = 2\n",
      "['курс', 'доллара'], длина = 2\n",
      "['сериалы', 'этим', 'летом'], длина = 3\n",
      "['курс', 'по', 'питону'], длина = 3\n",
      "['сериалы', 'про', 'спорт'], длина = 3\n",
      "-----------------------\n",
      "Общее количество запросов = 7\n",
      "Кол-во запросов с 1 словом = 0, и это 0.0% от общего количества запросов\n",
      "Кол-во запросов с 2 словами = 3, и это 42.9% от общего количества запросов\n",
      "Кол-во запросов с 3 словами = 4, и это 57.1% от общего количества запросов\n"
     ]
    }
   ],
   "source": [
    "queries = [\n",
    "    'смотреть сериалы онлайн',\n",
    "    'новости спорта',\n",
    "    'афиша кино',\n",
    "    'курс доллара',\n",
    "    'сериалы этим летом',\n",
    "    'курс по питону',\n",
    "    'сериалы про спорт',\n",
    "]\n",
    "search_id = 0\n",
    "search_total = len(queries)\n",
    "for item in queries:\n",
    "    queries_1 = item.split(' ')\n",
    "    print(f'{queries_1}, длина = {len(queries_1)}')\n",
    "    if int(len(queries_1)) == 1:\n",
    "        search_1 += 1\n",
    "    elif int(len(queries_1)) == 2:\n",
    "        search_2 += 1\n",
    "    elif int(len(queries_1)) == 3:\n",
    "        search_3 += 1\n",
    "print('-----------------------')\n",
    "print(f'Общее количество запросов = {len(queries)}')        \n",
    "print(f'Кол-во запросов с 1 словом = {search_1}, и это {round((search_1/search_total)*100,1)}% от общего количества запросов')\n",
    "print(f'Кол-во запросов с 2 словами = {search_2}, и это {round((search_2/search_total)*100,1)}% от общего количества запросов')\n",
    "print(f'Кол-во запросов с 3 словами = {search_3}, и это {round((search_3/search_total)*100,1)}% от общего количества запросов')\n",
    "        \n",
    "    "
   ]
  },
  {
   "cell_type": "code",
   "execution_count": 184,
   "metadata": {},
   "outputs": [
    {
     "name": "stdout",
     "output_type": "stream",
     "text": [
      "9\n",
      "3\n",
      "2\n",
      "2\n",
      "2\n",
      "3\n",
      "3\n",
      "3\n",
      "1\n",
      "4\n",
      "[3, 2, 2, 2, 3, 3, 3, 1, 4]\n",
      "[1, 2, 3, 4]\n",
      "Кол-во запросов с 1 словом = 11.1% от общего кол-ва запросов\n",
      "Кол-во запросов с 2 словами = 33.3% от общего кол-ва запросов\n",
      "Кол-во запросов с 3 словами = 44.4% от общего кол-ва запросов\n",
      "Кол-во запросов с 4 словами = 11.1% от общего кол-ва запросов\n"
     ]
    }
   ],
   "source": [
    "queries = [\n",
    "    'смотреть сериалы онлайн',\n",
    "    'новости спорта',\n",
    "    'афиша кино',\n",
    "    'курс доллара',\n",
    "    'сериалы этим летом',\n",
    "    'курс по питону',\n",
    "    'сериалы про спорт',\n",
    "    'уксус',\n",
    "    'куда стоит инвестировать 2020'\n",
    "]\n",
    "new_list = []\n",
    "search_total = len(queries)\n",
    "print(search_total)\n",
    "for item in queries:\n",
    "    queries_1 = item.split(' ')\n",
    "    print(len(queries_1))\n",
    "    new_list.append(len(queries_1))\n",
    "print(new_list)\n",
    "a = list(set(new_list))\n",
    "print(a)\n",
    "for i in range(len(a)):\n",
    "    counter = new_list.count(a[i])\n",
    "    if  a[i] == 1:\n",
    "        print(f'Кол-во запросов с {i+1} словом = {round((counter/search_total)*100,1)}% от общего кол-ва запросов')\n",
    "    else:\n",
    "        print(f'Кол-во запросов с {i+1} словами = {round((counter/search_total)*100,1)}% от общего кол-ва запросов')"
   ]
  },
  {
   "cell_type": "markdown",
   "metadata": {},
   "source": [
    "## Задание 4"
   ]
  },
  {
   "cell_type": "markdown",
   "metadata": {},
   "source": [
    "*Условие*\n",
    "Дана статистика рекламных каналов по объемам продаж. Напишите скрипт, который возвращает название канала с максимальным объемом. Т. е. в данном примере скрипт должен возвращать 'yandex'."
   ]
  },
  {
   "cell_type": "code",
   "execution_count": 7,
   "metadata": {},
   "outputs": [
    {
     "name": "stdout",
     "output_type": "stream",
     "text": [
      "120\n",
      "yandex\n"
     ]
    }
   ],
   "source": [
    "stats = {'facebook': 55, 'yandex': 120, 'vk': 115, 'google': 99, 'email': 42, 'ok': 98}\n",
    "x = max(list(stats.values()))\n",
    "print(x)\n",
    "for media, value in stats.items():\n",
    "    if x == value:\n",
    "        print(media)"
   ]
  },
  {
   "cell_type": "markdown",
   "metadata": {},
   "source": [
    "# Задание 5"
   ]
  },
  {
   "cell_type": "markdown",
   "metadata": {},
   "source": [
    "*Условие*\n",
    "Напишите код для преобразования произвольного списка вида ['2018-01-01', 'yandex', 'cpc', 100] (он может быть любой длины) в словарь {'2018-01-01': {'yandex': {'cpc': 100}}}"
   ]
  },
  {
   "cell_type": "code",
   "execution_count": 8,
   "metadata": {},
   "outputs": [
    {
     "name": "stdout",
     "output_type": "stream",
     "text": [
      "{'yandex': {'cpc': 100}}\n",
      "{'2018-01-01': {'yandex': {'cpc': 100}}}\n"
     ]
    }
   ],
   "source": [
    "stats = ['2018-01-01', 'yandex', 'cpc', 100]\n",
    "stats_1 = { stats[-2] : stats[-1] }\n",
    "stats_2 = stats[:-2]\n",
    "stats_2.reverse()\n",
    "for value in stats_2:\n",
    "    stats_1 = {value:stats_1}\n",
    "    print(stats_1)"
   ]
  },
  {
   "cell_type": "code",
   "execution_count": null,
   "metadata": {},
   "outputs": [],
   "source": []
  },
  {
   "cell_type": "code",
   "execution_count": null,
   "metadata": {},
   "outputs": [],
   "source": []
  }
 ],
 "metadata": {
  "kernelspec": {
   "display_name": "Python 3",
   "language": "python",
   "name": "python3"
  },
  "language_info": {
   "codemirror_mode": {
    "name": "ipython",
    "version": 3
   },
   "file_extension": ".py",
   "mimetype": "text/x-python",
   "name": "python",
   "nbconvert_exporter": "python",
   "pygments_lexer": "ipython3",
   "version": "3.7.6"
  }
 },
 "nbformat": 4,
 "nbformat_minor": 4
}
