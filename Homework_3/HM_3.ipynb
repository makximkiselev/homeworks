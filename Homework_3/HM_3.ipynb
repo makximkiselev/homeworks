{
 "cells": [
  {
   "cell_type": "markdown",
   "metadata": {},
   "source": [
    "# Homework_3"
   ]
  },
  {
   "cell_type": "markdown",
   "metadata": {},
   "source": [
    "## Задание 1\n",
    "\n",
    "*Условие*\n",
    "Дано слово из латинских букв. Напишите скрипт, который выводит на экран букву из середины слова (если число букв нечетное). Если букв четное число, то на экран выводятся две буквы из середины.\n",
    "\n",
    "Пример: для 'test' должно выводится 'es', для 'testing' - 't'\n"
   ]
  },
  {
   "cell_type": "code",
   "execution_count": null,
   "metadata": {},
   "outputs": [],
   "source": [
    "my_word = input('Введи любое слово латиницей=')\n",
    "if len(my_word) % 2 == 0:\n",
    "    print('Слово имеет четное количество букв')\n",
    "    print(my_word[(len(my_word)//2-1):(len(my_word)//2+1)])\n",
    "else:\n",
    "    print('Слово имеет нечетное количество букв')\n",
    "    print(my_word[len(my_word)//2])"
   ]
  },
  {
   "cell_type": "markdown",
   "metadata": {},
   "source": [
    "## Задание 2\n",
    "\n",
    "*Условие*\n",
    "Мы делаем MVP dating-сервиса, и у нас есть список парней и девушек (их число может варьироваться):\n",
    "\n",
    "Выдвигаем гипотезу: лучшие рекомендации мы получим, если просто отсортируем имена по алфавиту и познакомим людей с одинаковыми индексами после сортировки! \"Познакомить\" пары нам поможет функция zip, а в цикле распакуем zip-объект и выведем информацию в виде:\n",
    "\n",
    "* boys = ['Peter', 'Alex', 'John', 'Arthur', 'Richard']\n",
    "* girls = ['Kate', 'Liza', 'Kira', 'Emma', 'Trisha']\n",
    "\n",
    "Идеальные пары:\n",
    "* Alex и Emma\n",
    "* Arthur и Kate\n",
    "* John и Kira\n",
    "* Peter и Liza\n",
    "* Richard и Trisha\n",
    "\n",
    "Внимание! Если количество людей в списках будет не совпадать, то мы никого знакомить не будет и выведем пользователю предупреждение, что кто-то может остаться без пары!"
   ]
  },
  {
   "cell_type": "code",
   "execution_count": null,
   "metadata": {},
   "outputs": [],
   "source": [
    "print('Чтобы остановить ввод, напиши end')\n",
    "boys_list = list()\n",
    "type(boys_list)\n",
    "boys_name = ''\n",
    "while boys_name != 'end':\n",
    "    boys_name = input()\n",
    "    boys_list += [boys_name.capitalize()]\n",
    "boys_list.remove('End')\n",
    "print(sorted(boys_list))\n",
    "\n",
    "print('------------')\n",
    "\n",
    "print('Чтобы остановить ввод, напиши end')\n",
    "girls_list = list()\n",
    "girls_name = ''\n",
    "while girls_name != 'end':\n",
    "    girls_name = input()\n",
    "    girls_list += [girls_name.capitalize()]\n",
    "girls_list.remove('End')\n",
    "print(sorted(girls_list))\n",
    "\n",
    "if len(boys_list)<len(girls_list) or len(boys_list)>len(girls_list):\n",
    "    print('Кто-то может остаться без пары! Введите равное количество имен')\n",
    "else:\n",
    "    print('------------')\n",
    "    ideal = zip(boys_list,girls_list)\n",
    "    print(sorted(list(ideal)))"
   ]
  },
  {
   "cell_type": "markdown",
   "metadata": {},
   "source": [
    "## Задание 3\n",
    "\n",
    "*Условие*\n",
    "У нас есть список, содержащий информацию о среднедневной температуре в Фаренгейтах за недельный период по странам. Необходимо написать код, который рассчитает среднюю температуру за неделю в Цельсиях для каждой страны."
   ]
  },
  {
   "cell_type": "code",
   "execution_count": null,
   "metadata": {},
   "outputs": [],
   "source": [
    "countries_temperature = [\n",
    " ['Thailand', [75.2, 77, 78.8, 73.4, 68, 75.2, 77]],\n",
    " ['Germany', [57.2, 55.4, 59, 59, 53.6, 55.4, 57.2]],\n",
    " ['Russia', [35.6, 37.4, 39.2, 41, 42.8, 39.2, 35.6]],\n",
    " ['Poland', [50, 50, 53.6, 57.2, 55.4, 55.4, 51.8]],\n",
    "]\n",
    "for temperature in countries_temperature:\n",
    "    print(f'{temperature[0]} has avarage temperature in C {round(((sum(temperature[1])/len(temperature[1]))-32)*(5/9),1)}')\n",
    "    "
   ]
  },
  {
   "cell_type": "markdown",
   "metadata": {},
   "source": [
    "## Задание 4\n",
    "\n",
    "*Условие*\n",
    "Дан поток логов по количеству просмотренных страниц для каждого пользователя. Список отсортирован по ID пользователя. Вам необходимо написать алгоритм, который считает среднее значение просмотров на пользователя. Т. е. надо посчитать отношение суммы всех просмотров к количеству уникальных пользователей."
   ]
  },
  {
   "cell_type": "code",
   "execution_count": null,
   "metadata": {},
   "outputs": [],
   "source": [
    "stream = [\n",
    "    '2018-01-01,user1,3',\n",
    "    '2018-01-07,user1,4',\n",
    "    '2018-03-29,user1,1',\n",
    "    '2018-04-04,user1,13',\n",
    "    '2018-01-05,user2,7',\n",
    "    '2018-06-14,user3,4',\n",
    "    '2018-07-02,user3,10',\n",
    "    '2018-03-21,user4,19',\n",
    "    '2018-03-22,user4,4',\n",
    "    '2018-04-22,user4,8',\n",
    "    '2018-05-03,user4,9',\n",
    "    '2018-05-11,user4,11',\n",
    "]\n",
    "\n",
    "all_views = 0\n",
    "user_count = []\n",
    "for view in stream:\n",
    "    new_stream_1 = view.split(',')\n",
    "    all_views += int(new_stream_1[2])\n",
    "print(f'Общее количество просмотров = {all_views}')\n",
    "\n",
    "for name in stream:\n",
    "    users = name.split(',')\n",
    "    if users[1] not in user_count:\n",
    "        user_count.insert(0, users[1])\n",
    "print(len(user_count))\n",
    "average = all_views// len(user_count)\n",
    "print(average)"
   ]
  },
  {
   "cell_type": "markdown",
   "metadata": {},
   "source": [
    "## Задание 5\n",
    "\n",
    "*Условие*\n",
    "Дана статистика рекламных кампаний по дням. Напишите алгоритм, который по паре дата-кампания ищет значение численного столбца. Т. е. для даты '2018-01-01' и 'google' нужно получить число 25. Считайте, что все комбинации дата-кампания уникальны."
   ]
  },
  {
   "cell_type": "code",
   "execution_count": null,
   "metadata": {},
   "outputs": [],
   "source": [
    "stats = [\n",
    "    ['2018-01-01', 'google', 25],\n",
    "    ['2018-01-01', 'yandex', 65],\n",
    "    ['2018-01-01', 'market', 89],\n",
    "    ['2018-01-02', 'google', 574],\n",
    "    ['2018-01-02', 'yandex', 249],\n",
    "    ['2018-01-02', 'market', 994],\n",
    "    ['2018-01-03', 'google', 1843],\n",
    "    ['2018-01-03', 'yandex', 1327],\n",
    "    ['2018-01-03', 'market', 1764],\n",
    "]\n",
    "\n",
    "date = input('Выберите любую дату из предложенных от 2018-01-01 до 2018-01-03=')\n",
    "if date != '2018-01-01' and date != '2018-01-02' and date != '2018-01-03':\n",
    "    print('Введите дату из предложенных')\n",
    "else:\n",
    "    campaign = input('Выберите любую кампанию из предложенных (yandex или google или market)=')\n",
    "    if campaign != 'google' and campaign != 'market' and campaign != 'yandex':\n",
    "        print('Выберите кампанию из списка!')\n",
    "\n",
    "for click in stats:\n",
    "    if click[0] == date and click[1] == campaign:\n",
    "        print(f'Количество кликов на {date} в кампании {campaign} составляет {click[2]}')\n",
    "    "
   ]
  },
  {
   "cell_type": "markdown",
   "metadata": {},
   "source": [
    "## Задание 6\n",
    "\n",
    "*Условие*\n",
    "Напишите код, который будет вычислять сумму элементов на диагонали. Т. е. 13+32+23+35.\n",
    "Список может быть любой длины, но всегда является \"квадратным\" (количество элементов во вложенных списках равно их количеству)."
   ]
  },
  {
   "cell_type": "code",
   "execution_count": 20,
   "metadata": {},
   "outputs": [
    {
     "name": "stdout",
     "output_type": "stream",
     "text": [
      "The sum of cells is 103\n"
     ]
    }
   ],
   "source": [
    "data = [\n",
    "    [13, 25, 23, 34],\n",
    "    [45, 32, 44, 47],\n",
    "    [12, 33, 23, 95],\n",
    "    [13, 53, 34, 35]\n",
    "]\n",
    "result = 0\n",
    "for i, cell in enumerate(data):\n",
    "    result += cell[i]\n",
    "print(f'The sum of cells is {result}')"
   ]
  },
  {
   "cell_type": "code",
   "execution_count": null,
   "metadata": {},
   "outputs": [],
   "source": []
  }
 ],
 "metadata": {
  "kernelspec": {
   "display_name": "Python 3",
   "language": "python",
   "name": "python3"
  },
  "language_info": {
   "codemirror_mode": {
    "name": "ipython",
    "version": 3
   },
   "file_extension": ".py",
   "mimetype": "text/x-python",
   "name": "python",
   "nbconvert_exporter": "python",
   "pygments_lexer": "ipython3",
   "version": "3.7.6"
  }
 },
 "nbformat": 4,
 "nbformat_minor": 4
}
