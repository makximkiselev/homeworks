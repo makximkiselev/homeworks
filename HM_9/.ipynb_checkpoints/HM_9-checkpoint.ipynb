{
 "cells": [
  {
   "cell_type": "markdown",
   "metadata": {},
   "source": [
    "# Задание 1\n",
    "*Условие*\n",
    "\n",
    "Напишите функцию, которая принимает на вход строку и проверяет является ли она валидным транспортным номером. Если да, то функция должна возвращать отдельно номер и регион."
   ]
  },
  {
   "cell_type": "code",
   "execution_count": 2,
   "metadata": {},
   "outputs": [],
   "source": [
    "import re"
   ]
  },
  {
   "cell_type": "code",
   "execution_count": 3,
   "metadata": {},
   "outputs": [
    {
     "name": "stdout",
     "output_type": "stream",
     "text": [
      "Номер: 262 и регион: 97.\n"
     ]
    }
   ],
   "source": [
    "def car_number_check(car_number):\n",
    "    regex_car_number = r'(?:([а,в,е,к,м,н,о,р,с,т,у,х]{1})(\\d{3})([а,в,е,к,м,н,о,р,с,т,у,х]{2})(\\d{2,3})(RUS|$))'\n",
    "    if re.findall(regex_car_number, car_number):\n",
    "        print(re.sub(regex_car_number, r'Номер: \\2 и регион: \\4.', car_number))\n",
    "    else:\n",
    "        print('Некорректный номер. Повторите попытку.')\n",
    "car_number_check('м262уо97RUS')"
   ]
  },
  {
   "cell_type": "markdown",
   "metadata": {},
   "source": [
    "# Задание 2\n",
    "*Условие*\n",
    "\n",
    "Постарайтесь написать (в крайнем случае найти) самый полный шаблон для проверки e-mail адресов через регулярное выражение, которая проверяет e-mail адрес на валидность. Можно руководствоваться следующими минимальными требованиями:\n",
    "1. адрес должен содержать специальный символ “@”, который отделяет имя пользователя почтовой системы от доменного имени;\n",
    "2. адрес не должен содержать следующие символы: “пробел”, “,”, “:”, “;”, “!”, “#”, “%”, “*”, “(”, “)”, “=”, “+”, “{”, “}”, \" \" \", \" ’ \", \" / \", \" \\ \" и “|”;\n",
    "3. адрес должен состоять только из латинских символов;\n",
    "4. после символа “@” должна быть как минимум одна “.”;\n",
    "5. после последней точки должно быть не менее 2-х и не более 4-х символов, причем наличие цифр не допускается;\n",
    "6. между последней точкой и символом “@” должно быть не менее 2-х символов\n",
    "7. слева от “@” должно быть не менее четырех символов"
   ]
  },
  {
   "cell_type": "code",
   "execution_count": 18,
   "metadata": {},
   "outputs": [
    {
     "name": "stdout",
     "output_type": "stream",
     "text": [
      "E-mail корректный\n"
     ]
    }
   ],
   "source": [
    "e_mail = 'makx_kiselev@gmail.com'\n",
    "e_mail_regex = r'\\b[a-zA-Z0-9._%+-]+@[a-zA-Z0-9.-]+\\.[a-zA-Z]{2,4}\\b'\n",
    "if re.findall(e_mail_regex, e_mail):\n",
    "    print('E-mail корректный')\n",
    "else:\n",
    "    print('E-mail некорректный')"
   ]
  },
  {
   "cell_type": "markdown",
   "metadata": {},
   "source": [
    "# Задание 3\n",
    "Напишите функцию, которая будет удалять все последовательные повторы слов из заданной строки при помощи регулярных выражений.\n",
    "\n",
    "(честно говоря нашел просто решение). Сам не понимаю как этот ад писать."
   ]
  },
  {
   "cell_type": "code",
   "execution_count": 5,
   "metadata": {},
   "outputs": [
    {
     "data": {
      "text/plain": [
       "'privet poka ne_povtor povtor'"
      ]
     },
     "execution_count": 5,
     "metadata": {},
     "output_type": "execute_result"
    }
   ],
   "source": [
    "def phrase_checking():\n",
    "    phrase = 'privet privet poka poka ne_povtor povtor povtor'\n",
    "    phrase_regex_1 = re.sub(r'\\b([^\\W\\d_]+)(\\s+\\1)+\\b', r'\\1', re.sub(r'\\W+', ' ', phrase).strip(), flags=re.I)\n",
    "    return phrase_regex_1\n",
    "phrase_checking()"
   ]
  },
  {
   "cell_type": "markdown",
   "metadata": {},
   "source": [
    "# Задание 4\n",
    "\n",
    "Напишите функцию, которая будет проверять номер сотового телефона на валидность, если он валиден, то переводить его в формат:\n",
    "+7(xxx)-xxx-xx-xx\n",
    "Постарайтесь предусмотреть как можно больше адекватных форматов изначального ввода номера. Примеры валидных форматов:\n",
    "1. +7 955 555-55-55;\n",
    "2. 9555555555;\n",
    "3. 8(955)555-55-55;\n",
    "4. +7 955 555 55 55;\n",
    "5. 7(955) 555-55-55;\n",
    "6. +7 955+555+55+55."
   ]
  },
  {
   "cell_type": "code",
   "execution_count": 9,
   "metadata": {},
   "outputs": [
    {
     "data": {
      "text/plain": [
       "'+7(919)-723-54-05'"
      ]
     },
     "execution_count": 9,
     "metadata": {},
     "output_type": "execute_result"
    }
   ],
   "source": [
    "def tel_valid(tel):\n",
    "    pattern = r'\\+?[87]*\\s*\\(?(\\d{3})\\)?\\s*[+\\-]?(\\d{3})\\s*[+\\-]?(\\d{2})\\s*[+\\-]?\\s*(\\d{2})'\n",
    "    example = r'+7(\\1)-\\2-\\3-\\4'\n",
    "    return re.sub(pattern, example, tel)\n",
    "tel_valid('+7 919 723 54 05')\n"
   ]
  },
  {
   "cell_type": "code",
   "execution_count": null,
   "metadata": {},
   "outputs": [],
   "source": []
  }
 ],
 "metadata": {
  "kernelspec": {
   "display_name": "Python 3",
   "language": "python",
   "name": "python3"
  },
  "language_info": {
   "codemirror_mode": {
    "name": "ipython",
    "version": 3
   },
   "file_extension": ".py",
   "mimetype": "text/x-python",
   "name": "python",
   "nbconvert_exporter": "python",
   "pygments_lexer": "ipython3",
   "version": "3.7.6"
  }
 },
 "nbformat": 4,
 "nbformat_minor": 4
}
