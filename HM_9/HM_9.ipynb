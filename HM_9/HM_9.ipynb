{
 "cells": [
  {
   "cell_type": "markdown",
   "metadata": {},
   "source": [
    "# Задание 1\n",
    "*Условие*\n",
    "\n",
    "Напишите функцию, которая принимает на вход строку и проверяет является ли она валидным транспортным номером. Если да, то функция должна возвращать отдельно номер и регион."
   ]
  },
  {
   "cell_type": "code",
   "execution_count": 2,
   "metadata": {},
   "outputs": [],
   "source": [
    "import re"
   ]
  },
  {
   "cell_type": "code",
   "execution_count": 3,
   "metadata": {},
   "outputs": [
    {
     "name": "stdout",
     "output_type": "stream",
     "text": [
      "Номер: 262 и регион: 97.\n"
     ]
    }
   ],
   "source": [
    "def car_number_check(car_number):\n",
    "    regex_car_number = r'(?:([а,в,е,к,м,н,о,р,с,т,у,х]{1})(\\d{3})([а,в,е,к,м,н,о,р,с,т,у,х]{2})(\\d{2,3})(RUS|$))'\n",
    "    if re.findall(regex_car_number, car_number):\n",
    "        print(re.sub(regex_car_number, r'Номер: \\2 и регион: \\4.', car_number))\n",
    "    else:\n",
    "        print('Некорректный номер. Повторите попытку.')\n",
    "car_number_check('м262уо97RUS')"
   ]
  },
  {
   "cell_type": "markdown",
   "metadata": {},
   "source": [
    "# Задание 2\n",
    "*Условие*\n",
    "\n",
    "Постарайтесь написать (в крайнем случае найти) самый полный шаблон для проверки e-mail адресов через регулярное выражение, которая проверяет e-mail адрес на валидность. Можно руководствоваться следующими минимальными требованиями:\n",
    "1. адрес должен содержать специальный символ “@”, который отделяет имя пользователя почтовой системы от доменного имени;\n",
    "2. адрес не должен содержать следующие символы: “пробел”, “,”, “:”, “;”, “!”, “#”, “%”, “*”, “(”, “)”, “=”, “+”, “{”, “}”, \" \" \", \" ’ \", \" / \", \" \\ \" и “|”;\n",
    "3. адрес должен состоять только из латинских символов;\n",
    "4. после символа “@” должна быть как минимум одна “.”;\n",
    "5. после последней точки должно быть не менее 2-х и не более 4-х символов, причем наличие цифр не допускается;\n",
    "6. между последней точкой и символом “@” должно быть не менее 2-х символов\n",
    "7. слева от “@” должно быть не менее четырех символов"
   ]
  },
  {
   "cell_type": "code",
   "execution_count": 5,
   "metadata": {},
   "outputs": [
    {
     "name": "stdout",
     "output_type": "stream",
     "text": [
      "E-mail корректный\n"
     ]
    }
   ],
   "source": [
    "e_mail = '123@gmail.com'\n",
    "e_mail_regex = r'(?:[a-z0-9!#$%&*+/=?^_`{|}~-]+(?:\\.[a-z0-9!$%&*+/=?^_`{|}~-]+)*|\"(?:[\\x01-\\x08\\x0b\\x0c\\x0e-\\x1f\\x21\\x23-\\x5b\\x5d-\\x7f]|\\\\[\\x01-\\x09\\x0b\\x0c\\x0e-\\x7f])*\")@(?:(?:[a-z0-9](?:[a-z0-9-]*[a-z0-9])?\\.)+[a-z0-9](?:[a-z0-9-]*[a-z0-9])?|\\[(?:(?:25[0-5]|2[0-4][0-9]|[01]?[0-9][0-9]?)\\.){3}(?:25[0-5]|2[0-4][0-9]|[01]?[0-9][0-9]?|[a-z0-9-]*[a-z0-9]:(?:[\\x01-\\x08\\x0b\\x0c\\x0e-\\x1f\\x21-\\x5a\\x53-\\x7f]|\\\\[\\x01-\\x09\\x0b\\x0c\\x0e-\\x7f])+)\\])'\n",
    "if re.findall(e_mail_regex, e_mail):\n",
    "    print('E-mail корректный')\n",
    "else:\n",
    "    print('E-mail некорректный')"
   ]
  },
  {
   "cell_type": "markdown",
   "metadata": {},
   "source": [
    "# Задание 3\n",
    "Напишите функцию, которая будет удалять все последовательные повторы слов из заданной строки при помощи регулярных выражений.\n",
    "\n",
    "(честно говоря нашел просто решение). Сам не понимаю как этот ад писать."
   ]
  },
  {
   "cell_type": "code",
   "execution_count": 35,
   "metadata": {},
   "outputs": [
    {
     "data": {
      "text/plain": [
       "'privet poka ne_povtor povtor'"
      ]
     },
     "execution_count": 35,
     "metadata": {},
     "output_type": "execute_result"
    }
   ],
   "source": [
    "def phrase_checking():\n",
    "    phrase = 'privet privet poka poka ne_povtor povtor povtor'\n",
    "    phrase_regex_1 = re.sub(r'\\b([^\\W\\d_]+)(\\s+\\1)+\\b', r'\\1', re.sub(r'\\W+', ' ', phrase).strip(), flags=re.I)\n",
    "    return phrase_regex_1\n",
    "phrase_checking()"
   ]
  },
  {
   "cell_type": "markdown",
   "metadata": {},
   "source": [
    "# Задание 4\n",
    "\n",
    "Напишите функцию, которая будет проверять номер сотового телефона на валидность, если он валиден, то переводить его в формат:\n",
    "+7(xxx)-xxx-xx-xx\n",
    "Постарайтесь предусмотреть как можно больше адекватных форматов изначального ввода номера. Примеры валидных форматов:\n",
    "1. +7 955 555-55-55;\n",
    "2. 9555555555;\n",
    "3. 8(955)555-55-55;\n",
    "4. +7 955 555 55 55;\n",
    "5. 7(955) 555-55-55;\n",
    "6. +7 955+555+55+55."
   ]
  },
  {
   "cell_type": "code",
   "execution_count": 110,
   "metadata": {},
   "outputs": [
    {
     "data": {
      "text/plain": [
       "'+7(919)-723-54-05'"
      ]
     },
     "execution_count": 110,
     "metadata": {},
     "output_type": "execute_result"
    }
   ],
   "source": [
    "def tel_valid(tel):\n",
    "    tel_regex = r'((8|\\+7|9)(\\d{3})(\\d{3})(\\d{2})(\\d{2}))'\n",
    "    return re.sub(tel_regex,r'+7(\\3)-\\4-\\5-\\6', tel)\n",
    "tel_valid('89197235405')\n"
   ]
  },
  {
   "cell_type": "code",
   "execution_count": null,
   "metadata": {},
   "outputs": [],
   "source": []
  }
 ],
 "metadata": {
  "kernelspec": {
   "display_name": "Python 3",
   "language": "python",
   "name": "python3"
  },
  "language_info": {
   "codemirror_mode": {
    "name": "ipython",
    "version": 3
   },
   "file_extension": ".py",
   "mimetype": "text/x-python",
   "name": "python",
   "nbconvert_exporter": "python",
   "pygments_lexer": "ipython3",
   "version": "3.7.6"
  }
 },
 "nbformat": 4,
 "nbformat_minor": 4
}
