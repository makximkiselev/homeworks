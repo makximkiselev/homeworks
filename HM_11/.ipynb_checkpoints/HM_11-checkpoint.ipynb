{
 "cells": [
  {
   "cell_type": "markdown",
   "metadata": {},
   "source": [
    "# Задание 1\n",
    "Скачайте с сайта https://grouplens.org/datasets/movielens/ датасет любого размера. Определите какому фильму было выставлено больше всего оценок 5.0."
   ]
  },
  {
   "cell_type": "code",
   "execution_count": 3,
   "metadata": {},
   "outputs": [],
   "source": [
    "import pandas as pd"
   ]
  },
  {
   "cell_type": "code",
   "execution_count": 25,
   "metadata": {},
   "outputs": [
    {
     "name": "stdout",
     "output_type": "stream",
     "text": [
      "318     153\n",
      "296     123\n",
      "356     116\n",
      "2571    109\n",
      "260     104\n",
      "Name: movieId, dtype: int64\n"
     ]
    }
   ],
   "source": [
    "review_num = pd.read_csv('ratings.csv')\n",
    "sorted_reviews = review_num[ (review_num['rating']==5.0) ]\n",
    "print(sorted_reviews['movieId'].value_counts().head())\n",
    "\n",
    "#я только не понял как можно соединить два файла, то есть,например, отсюда вытянуть айдишник фильма и связать его с айдишником из другого файла. Если это есть в лекции, то прошу прощения"
   ]
  },
  {
   "cell_type": "markdown",
   "metadata": {},
   "source": [
    "# Задание 2\n",
    "\n",
    "По данным файла power.csv посчитайте суммарное потребление стран Прибалтики (Латвия, Литва и Эстония) категорий 4, 12 и 21 за период с 2005 по 2010 года. Не учитывайте в расчетах отрицательные значения quantity."
   ]
  },
  {
   "cell_type": "code",
   "execution_count": 39,
   "metadata": {},
   "outputs": [
    {
     "name": "stdout",
     "output_type": "stream",
     "text": [
      "240580.0\n"
     ]
    }
   ],
   "source": [
    "consumption = pd.read_csv('power.csv')\n",
    "filtered_consumption = consumption[ ((consumption['country']=='Latvia') | (consumption['country']=='Lithuania') | (consumption['country']=='Estonia')) & ((consumption['year']==2005) | (consumption['year']==2006) | (consumption['year']==2007) | (consumption['year']==2008) | (consumption['year']==2009) | (consumption['year']==2010)) & ((consumption['category']==4) | (consumption['category']==12) | (consumption['category']==21)) & (consumption['quantity'] > 0)]\n",
    "total_sum = sum(filtered_consumption[\"quantity\"])\n",
    "print(total_sum)"
   ]
  },
  {
   "cell_type": "markdown",
   "metadata": {},
   "source": [
    "# Задание 3\n",
    "Выберите страницу любого сайта с табличными данными. Импортируйте таблицы в pandas dataframe.\n",
    "Примеры страниц (необязательно брать именно эти):\n",
    "https://fortrader.org/quotes\n",
    "https://www.finanz.ru/valyuty/v-realnom-vremeni"
   ]
  },
  {
   "cell_type": "code",
   "execution_count": 53,
   "metadata": {},
   "outputs": [
    {
     "name": "stdout",
     "output_type": "stream",
     "text": [
      "[    Unnamed: 0              Рубль  Предложение  Спрос  Предыдущее закрытие  \\\n",
      "0          NaN            GBP/RUB       861239      -               861152   \n",
      "1          NaN            EUR/RUB       788935      -               782910   \n",
      "2          NaN            USD/RUB       701811      -               697910   \n",
      "3          NaN            JPY/RUB        06509      -                06515   \n",
      "4          NaN            CNY/RUB        98866      -                98598   \n",
      "5          NaN            CHF/RUB       736152      -               736282   \n",
      "6          NaN               Евро  Предложение  Спрос  Предыдущее закрытие   \n",
      "7          NaN            EUR/USD        11243      -                11223   \n",
      "8          NaN            EUR/GBP        09138      -                09096   \n",
      "9          NaN            EUR/JPY      1209095      -              1202600   \n",
      "10         NaN            EUR/CHF        10692      -                10637   \n",
      "11         NaN         Доллар США  Предложение  Спрос  Предыдущее закрытие   \n",
      "12         NaN            USD/EUR        08895      -                08910   \n",
      "13         NaN            USD/GBP        08129      -                08104   \n",
      "14         NaN            USD/JPY      1075560      -              1071500   \n",
      "15         NaN            USD/CHF        09509      -                09479   \n",
      "16         NaN      Японская иена  Предложение  Спрос  Предыдущее закрытие   \n",
      "17         NaN    JPY/EUR (100:1)        08300      -                08300   \n",
      "18         NaN            JPY/GBP        00076      -                00076   \n",
      "19         NaN            JPY/USD        00093      -                00093   \n",
      "20         NaN    JPY/CHF (100:1)        08800      -                08800   \n",
      "21         NaN    Фунт стерлингов  Предложение  Спрос  Предыдущее закрытие   \n",
      "22         NaN            GBP/USD        12300      -                12344   \n",
      "23         NaN            GBP/JPY      1322997      -              1321816   \n",
      "24         NaN            GBP/EUR        10943      -                10997   \n",
      "25         NaN            GBP/CHF        11700      -                11695   \n",
      "26         NaN  Швейцарский франк  Предложение  Спрос  Предыдущее закрытие   \n",
      "27         NaN            GBP/CHF        11700      -                11695   \n",
      "28         NaN            EUR/CHF        10692      -                10637   \n",
      "29         NaN    JPY/CHF (100:1)        08800      -                08800   \n",
      "30         NaN            USD/CHF        09509      -                09479   \n",
      "31         NaN  Украинская гривна  Предложение  Спрос  Предыдущее закрытие   \n",
      "32         NaN            EUR/UAH       300458      -               299301   \n",
      "33         NaN            USD/UAH       267252      -               266685   \n",
      "34         NaN            CHF/UAH       281022      -               281349   \n",
      "35         NaN            GBP/UAH       328747      -               329063   \n",
      "\n",
      "          %  Абсолютное значение     Время  \n",
      "0    0,01 %                00087  00:36:00  \n",
      "1    0,77 %                06025  00:33:00  \n",
      "2    0,56 %                03901  00:25:00  \n",
      "3   -0,09 %               -00006  00:36:00  \n",
      "4    0,27 %                00268  00:35:00  \n",
      "5   -0,02 %               -00131  00:36:00  \n",
      "6         %  Абсолютное значение     Время  \n",
      "7    0,17 %                00020  00:35:00  \n",
      "8    0,46 %                00042  00:35:00  \n",
      "9    0,54 %                06495  00:35:00  \n",
      "10   0,52 %                00055  00:35:00  \n",
      "11        %  Абсолютное значение     Время  \n",
      "12  -0,17 %               -00016  00:36:00  \n",
      "13   0,31 %                00025  00:36:00  \n",
      "14   0,38 %                04060  00:35:00  \n",
      "15   0,33 %                00031  00:35:00  \n",
      "16        %  Абсолютное значение     Время  \n",
      "17  -0,55 %                00000  00:35:00  \n",
      "18  -0,09 %                00000  00:36:00  \n",
      "19  -0,40 %                00000  00:36:00  \n",
      "20  -0,01 %                00000  00:35:00  \n",
      "21        %  Абсолютное значение     Время  \n",
      "22  -0,36 %               -00044  00:35:00  \n",
      "23   0,09 %                01182  00:36:00  \n",
      "24  -0,49 %               -00054  00:35:00  \n",
      "25   0,04 %                00005  00:35:00  \n",
      "26        %  Абсолютное значение     Время  \n",
      "27   0,04 %                00005  00:35:00  \n",
      "28   0,52 %                00055  00:35:00  \n",
      "29  -0,01 %                00000  00:35:00  \n",
      "30   0,33 %                00031  00:35:00  \n",
      "31        %  Абсолютное значение     Время  \n",
      "32   0,39 %                01157  00:36:00  \n",
      "33   0,21 %                00567  00:35:00  \n",
      "34  -0,12 %               -00326  00:36:00  \n",
      "35  -0,10 %               -00317  00:36:00  ]\n"
     ]
    }
   ],
   "source": [
    "page_url = 'https://www.finanz.ru/valyuty/v-realnom-vremeni'\n",
    "\n",
    "# Импортируем нужную нам страницу в df\n",
    "# attrs = {'class': 'news_table'} ---> указываем какой именно блок нам нужен\n",
    "# encoding='utf-8' ---> указываем кодировку страниц для корректного отображения кириллицы\n",
    "df = pd.read_html(page_url, attrs = {'class': 'quote_list'}, encoding='utf-8')\n",
    "print(df)"
   ]
  },
  {
   "cell_type": "code",
   "execution_count": null,
   "metadata": {},
   "outputs": [],
   "source": []
  },
  {
   "cell_type": "code",
   "execution_count": null,
   "metadata": {},
   "outputs": [],
   "source": []
  }
 ],
 "metadata": {
  "kernelspec": {
   "display_name": "Python 3",
   "language": "python",
   "name": "python3"
  },
  "language_info": {
   "codemirror_mode": {
    "name": "ipython",
    "version": 3
   },
   "file_extension": ".py",
   "mimetype": "text/x-python",
   "name": "python",
   "nbconvert_exporter": "python",
   "pygments_lexer": "ipython3",
   "version": "3.7.6"
  }
 },
 "nbformat": 4,
 "nbformat_minor": 4
}
