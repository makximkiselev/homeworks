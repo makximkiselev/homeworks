{
 "cells": [
  {
   "cell_type": "markdown",
   "metadata": {},
   "source": [
    "# Homework 2"
   ]
  },
  {
   "cell_type": "markdown",
   "metadata": {},
   "source": [
    "## Task 1. Сравнение длины предложений"
   ]
  },
  {
   "cell_type": "markdown",
   "metadata": {},
   "source": [
    "### *Условие* \n",
    "Даны 2 строки: long_phrase и short_phrase. Напишите код, который проверяет действительно ли длинная фраза long_phrase длиннее короткой short_phrase. И выводит True или False в зависимости от результата сравнения."
   ]
  },
  {
   "cell_type": "code",
   "execution_count": 3,
   "metadata": {},
   "outputs": [
    {
     "name": "stdout",
     "output_type": "stream",
     "text": [
      "62\n",
      "61\n"
     ]
    },
    {
     "data": {
      "text/plain": [
       "True"
      ]
     },
     "execution_count": 3,
     "metadata": {},
     "output_type": "execute_result"
    }
   ],
   "source": [
    "long_phrase = 'Насколько проще было бы писать программы, если бы не заказчики'\n",
    "short_phrase = '640Кб должно хватить для любых задач. Билл Гейтс (по легенде)'\n",
    "print(len(long_phrase))\n",
    "print(len(short_phrase))\n",
    "len(long_phrase) > len(short_phrase)"
   ]
  },
  {
   "cell_type": "markdown",
   "metadata": {},
   "source": [
    "### Задание 1. Поразвлечься"
   ]
  },
  {
   "cell_type": "markdown",
   "metadata": {},
   "source": [
    "### Поиграй со мной.\n",
    "Попробуй придумать любое слово, которое будет иметь одинаковое кол-во букв, как и слово \"zollz\", но которое будет выдавать True при сравнении."
   ]
  },
  {
   "cell_type": "code",
   "execution_count": 27,
   "metadata": {},
   "outputs": [
    {
     "name": "stdout",
     "output_type": "stream",
     "text": [
      "Введи свой вариант dsdd\n",
      "Длина моего слова =  5\n",
      "Длина твоего слова =  4\n",
      "ХА, я выиграл! Попробуй еще раз!\n"
     ]
    }
   ],
   "source": [
    "my_string = 'zollz'\n",
    "user_string = input('Введи свой вариант ')\n",
    "print('Длина моего слова = ', len(my_string))\n",
    "print('Длина твоего слова = ', len(user_string))\n",
    "if len(my_string) < len(user_string):\n",
    "    print('Жулик, играй честно')\n",
    "elif my_string == user_string:\n",
    "    print('Придумай свое слово, хитрец')\n",
    "elif my_string > user_string:\n",
    "    print('ХА, я выиграл! Попробуй еще раз!')\n",
    "else:\n",
    "    print('Тебе просто повезло. Победа за тобой')"
   ]
  },
  {
   "cell_type": "markdown",
   "metadata": {},
   "source": [
    "## Task 2. Конвертация данных"
   ]
  },
  {
   "cell_type": "markdown",
   "metadata": {},
   "source": [
    "### *Условие* \n",
    "Дано значение объема файла в байтах (в мегабайте 2^20 байт). Напишите перевод этого значения в мегабайты в формате: \"Объем файла равен 213.68Mb\"."
   ]
  },
  {
   "cell_type": "code",
   "execution_count": 15,
   "metadata": {},
   "outputs": [
    {
     "name": "stdout",
     "output_type": "stream",
     "text": [
      "В 1 мегабайте 1048576 байт\n",
      "Введите число байтов 1000000\n",
      "Объем файла равен 0.95 Mb\n"
     ]
    }
   ],
   "source": [
    "megabyte = 2 ** 20\n",
    "print(\"В 1 мегабайте\", megabyte, \"байт\")\n",
    "user_byte = int(input(\"Введите число байтов \"))\n",
    "if user_byte < 0:\n",
    "    print(\"Введите положительное число\")\n",
    "else:\n",
    "    file_size = user_byte / megabyte\n",
    "    print(\"Объем файла равен\", round(file_size,2) , \"Mb\")"
   ]
  },
  {
   "cell_type": "markdown",
   "metadata": {},
   "source": [
    "## Task 3. Определение знака зодиака"
   ]
  },
  {
   "cell_type": "markdown",
   "metadata": {},
   "source": [
    "### *Условие* \n",
    "Разработать приложение для определения знака зодиака по дате рождения. Пример:\n",
    "\n",
    "Введите месяц: март\n",
    "\n",
    "Введите число: 6\n",
    "\n",
    "Вывод: Рыбы"
   ]
  },
  {
   "cell_type": "code",
   "execution_count": 39,
   "metadata": {},
   "outputs": [
    {
     "name": "stdout",
     "output_type": "stream",
     "text": [
      "Введите месяц рождения январь\n",
      "Введите дату рождения 23\n",
      "Дата рождения =  23 январь\n",
      "Ваш знак зодиака = Водолей\n"
     ]
    }
   ],
   "source": [
    "user_month = input(\"Введите месяц рождения \").lower()\n",
    "user_date = int(input(\"Введите дату рождения \"))\n",
    "if user_month != \"январь\" and user_month != \"февраль\" and user_month != \"март\" and user_month != \"апрель\" and user_month != \"май\" and user_month != \"июнь\" and user_month != \"июль\" and user_month != \"август\" and user_month != \"сентябрь\" and user_month != \"октябрь\" and user_month != \"ноябрь\" and user_month != \"декабрь\":\n",
    "    print(\"Введите корректный месяц рождения. От января до декабря любым регистром\")\n",
    "\n",
    "elif user_date <= 0 or user_date > 32:\n",
    "    print(\"Введите корректную дату рождения. Число должно быть от 1 до 31\")\n",
    "\n",
    "elif (user_date >= 21 and user_month == \"март\") or (user_date <= 20 and user_month == \"апрель\"):\n",
    "    print(\"Дата рождения = \", user_date, user_month )\n",
    "    print(\"Ваш знак зодиака = Овен\")\n",
    "\n",
    "elif (user_date >= 21 and user_month == \"апрель\") or (user_date <= 20 and user_month == \"май\"):\n",
    "    print(\"Дата рождения = \", user_date, user_month )\n",
    "    print(\"Ваш знак зодиака = Телец\")\n",
    "\n",
    "elif (user_date >= 21 and user_month == \"апрель\") or (user_date <= 20 and user_month == \"май\"):\n",
    "    print(\"Дата рождения = \", user_date, user_month )\n",
    "    print(\"Ваш знак зодиака = Телец\")\n",
    "\n",
    "elif (user_date >= 21 and user_month == \"май\") or (user_date <= 20 and user_month == \"июнь\"):\n",
    "    print(\"Дата рождения = \", user_date, user_month )\n",
    "    print(\"Ваш знак зодиака = Близнецы\")\n",
    "    \n",
    "elif (user_date >= 21 and user_month == \"июнь\") or (user_date <= 22 and user_month == \"июль\"):\n",
    "    print(\"Дата рождения = \", user_date, user_month )\n",
    "    print(\"Ваш знак зодиака = Рак\")\n",
    "\n",
    "elif (user_date >= 23 and user_month == \"июль\") or (user_date <= 22 and user_month == \"август\"):\n",
    "    print(\"Дата рождения = \", user_date, user_month )\n",
    "    print(\"Ваш знак зодиака = Лев\")\n",
    "\n",
    "elif (user_date >= 23 and user_month == \"август\") or (user_date <= 22 and user_month == \"сентябрь\"):\n",
    "    print(\"Дата рождения = \", user_date, user_month )\n",
    "    print(\"Ваш знак зодиака = Дева\")\n",
    "\n",
    "elif (user_date >= 23 and user_month == \"сентябрь\") or (user_date <= 22 and user_month == \"октябрь\"):\n",
    "    print(\"Дата рождения = \", user_date, user_month )\n",
    "    print(\"Ваш знак зодиака = Весы\")\n",
    "    \n",
    "elif (user_date >= 23 and user_month == \"октябрь\") or (user_date <= 22 and user_month == \"ноябрь\"):\n",
    "    print(\"Дата рождения = \", user_date, user_month )\n",
    "    print(\"Ваш знак зодиака = Скорпион\")\n",
    "    \n",
    "elif (user_date >= 23 and user_month == \"ноябрь\") or (user_date <= 21 and user_month == \"декабрь\"):\n",
    "    print(\"Дата рождения = \", user_date, user_month )\n",
    "    print(\"Ваш знак зодиака = Стрелец\")\n",
    "    \n",
    "elif (user_date >= 22 and user_month == \"декабрь\") or (user_date <= 19 and user_month == \"январь\"):\n",
    "    print(\"Дата рождения = \", user_date, user_month )\n",
    "    print(\"Ваш знак зодиака = Козерог\")\n",
    "\n",
    "elif (user_date >= 20 and user_month == \"январь\") or (user_date <= 19 and user_month == \"февраль\"):\n",
    "    print(\"Дата рождения = \", user_date, user_month )\n",
    "    print(\"Ваш знак зодиака = Водолей\")\n",
    "else:\n",
    "    print(\"Дата рождения = \", user_date, user_month )\n",
    "    print(\"Ваш знак зодиака = Рыбы\")\n"
   ]
  },
  {
   "cell_type": "markdown",
   "metadata": {},
   "source": [
    "## Task 4. Финансовое планирование"
   ]
  },
  {
   "cell_type": "markdown",
   "metadata": {},
   "source": [
    "### *Условие* \n",
    "\n",
    "Нужно разработать приложение для финансового планирования. Приложение учитывает сколько уходит на ипотеку, \"на жизнь\" и сколько нужно отложить на пенсию. Пользователь вводит:\n",
    "\n",
    "заработанную плату в месяц.\n",
    "сколько процентов от ЗП уходит на ипотеку.\n",
    "сколько процентов от ЗП уходит \"на жизнь\".\n",
    "сколько раз приходит премия в год.\n",
    "Остальная часть заработанной платы откладывается на пенсию.\n",
    "\n",
    "Также пользователю приходит премия в размере зарплаты, от которой половина уходит на отпуск, а вторая половина откладывается.\n",
    "\n",
    "Программа должна учитывать сколько премий было в год.\n",
    "\n",
    "Нужно вывести сколько денег тратит пользователь на ипотеку и сколько он накопит за год.\n",
    "\n",
    "Пример:\n",
    "\n",
    "Введите заработанную плату в месяц: 100000\n",
    "\n",
    "Введите сколько процентов уходит на ипотеку: 30\n",
    "\n",
    "Введите сколько процентов уходит на жизнь: 50\n",
    "\n",
    "Введите количество премий за год: 2\n",
    "\n",
    "Вывод: На ипотеку было потрачено: 360000 рублей Было накоплено: 340000 рублей"
   ]
  },
  {
   "cell_type": "code",
   "execution_count": 77,
   "metadata": {},
   "outputs": [
    {
     "name": "stdout",
     "output_type": "stream",
     "text": [
      "Введите свою ежемесячную зарплату после вычета подоходного налога = 100\n",
      "Введите % от зарплаты, который Вы тратите на ипотеку = 20\n",
      "Введите % от зарплаты, который Вы тратите на ежемесячные расходы = 30\n",
      "Сколько раз за год Вам приходит премия? 1\n",
      "\n",
      "На ипотеку было потрачено =  240.0\n",
      "Ежемесячные расходы за год =  360.0\n",
      "Накоплено на отпуск =  50.0\n",
      "Было накоплено всего =  650.0\n"
     ]
    }
   ],
   "source": [
    "user_salary = int(input(\"Введите свою ежемесячную зарплату после вычета подоходного налога = \"))\n",
    "if user_salary <= 0:\n",
    "    print(\"Некорректный ввод. Число не может быть отрицательным или равно 0. Повторите ввод.\")\n",
    "else:\n",
    "    user_mortrage = int(input(\"Введите % от зарплаты, который Вы тратите на ипотеку = \"))\n",
    "    if user_mortrage < 0:\n",
    "        print(\"Некорректный ввод. Число не может быть отрицательным. Повторите ввод.\")\n",
    "    elif user_mortrage > 100:\n",
    "        print(\"Некорректный ввод. Число не должно превышать 100\")\n",
    "    else:\n",
    "            user_month = int(input(\"Введите % от зарплаты, который Вы тратите на ежемесячные расходы = \"))\n",
    "            if user_month < 0:\n",
    "                print(\"Некорректный ввод. Число не может быть отрицательным. Повторите ввод.\")\n",
    "            elif user_month > 100:\n",
    "                print(\"Некорректный ввод. Число не должно превышать 100\")\n",
    "            elif (user_month + user_mortrage) > 100:\n",
    "                print(\"Сумма % на ипотеку и ежемесячные расходы не могут превышать 100%. Повторите ввод.\")\n",
    "            else:\n",
    "                user_premium = int(input(\"Сколько раз за год Вам приходит премия? \"))\n",
    "                if user_premium < 0:\n",
    "                    print(\"Некорректный ввод. Число не может быть отрицательным. Повторите ввод.\")\n",
    "                else:\n",
    "                    user_mortrage_spent = (user_salary * (user_mortrage/100))*12\n",
    "                    user_premium_get = user_premium * user_salary\n",
    "                    user_premium_save = user_premium_get/2\n",
    "                    user_vacation = user_premium_get/2\n",
    "                    user_month_spent = (user_salary * (user_month/100))*12\n",
    "                    user_save = ((user_salary*12) - user_mortrage_spent - (user_salary*(user_month/100)*12) + user_premium_save)\n",
    "                    print()\n",
    "                    print(\"На ипотеку было потрачено за год = \", user_mortrage_spent)\n",
    "                    print(\"Ежемесячные расходы за год = \", user_month_spent)\n",
    "                    print(\"Накоплено на отпуск за год = \", user_vacation)\n",
    "                    print(\"Было накоплено всего за год = \", user_save)"
   ]
  },
  {
   "cell_type": "code",
   "execution_count": null,
   "metadata": {},
   "outputs": [],
   "source": []
  },
  {
   "cell_type": "code",
   "execution_count": null,
   "metadata": {},
   "outputs": [],
   "source": []
  }
 ],
 "metadata": {
  "kernelspec": {
   "display_name": "Python 3",
   "language": "python",
   "name": "python3"
  }
 },
 "nbformat": 4,
 "nbformat_minor": 4
}
